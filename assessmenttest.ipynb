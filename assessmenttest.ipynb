{
 "cells": [
  {
   "cell_type": "code",
   "execution_count": null,
   "metadata": {},
   "outputs": [],
   "source": [
    "#import pandas\n",
    "import pandas as pd\n",
    "#read in data from \"births.csv\" and \"score.csv\" as dataframes\n",
    "birthsdf=pd.read_csv(\"files/births.csv\", sep=\",\")\n",
    "scoredf=pd.read_csv(\"files/score.csv\", sep=\",\")"
   ]
  },
  {
   "cell_type": "code",
   "execution_count": 16,
   "metadata": {},
   "outputs": [
    {
     "name": "stdout",
     "output_type": "stream",
     "text": [
      "id           int64\n",
      "bweight      int64\n",
      "lowbw        int64\n",
      "gestwks    float64\n",
      "preterm    float64\n",
      "matage       int64\n",
      "hyp          int64\n",
      "sex          int64\n",
      "dtype: object\n"
     ]
    }
   ],
   "source": [
    "#examine the births dataset\n",
    "birthsdf.head(10)\n",
    "print(birthsdf.dtypes)"
   ]
  },
  {
   "cell_type": "code",
   "execution_count": 19,
   "metadata": {},
   "outputs": [
    {
     "name": "stdout",
     "output_type": "stream",
     "text": [
      "id            int64\n",
      "bweight       int64\n",
      "lowbw      category\n",
      "gestwks     float64\n",
      "preterm     float64\n",
      "matage        int64\n",
      "hyp           int64\n",
      "sex           int64\n",
      "dtype: object\n"
     ]
    }
   ],
   "source": [
    "\n",
    "\n",
    "birthsdf[\"lowbw\"]=pd.Categorical(birthsdf[\"lowbw\"], categories=[0,1])\n",
    "print(birthsdf.dtypes)\n"
   ]
  }
 ],
 "metadata": {
  "kernelspec": {
   "display_name": "base",
   "language": "python",
   "name": "python3"
  },
  "language_info": {
   "codemirror_mode": {
    "name": "ipython",
    "version": 3
   },
   "file_extension": ".py",
   "mimetype": "text/x-python",
   "name": "python",
   "nbconvert_exporter": "python",
   "pygments_lexer": "ipython3",
   "version": "3.11.5"
  }
 },
 "nbformat": 4,
 "nbformat_minor": 2
}
