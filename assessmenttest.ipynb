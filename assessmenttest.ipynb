{
 "cells": [
  {
   "cell_type": "code",
   "execution_count": 1,
   "metadata": {},
   "outputs": [],
   "source": [
    "import pandas as pd\n",
    "\n",
    "# Read in data from \"births.csv\" and \"score.csv\" as dataframes\n",
    "births_df=pd.read_csv(\"files/births.csv\", sep=\",\")\n",
    "score_df=pd.read_csv(\"files/score.csv\", sep=\",\")"
   ]
  },
  {
   "cell_type": "code",
   "execution_count": 2,
   "metadata": {},
   "outputs": [
    {
     "name": "stdout",
     "output_type": "stream",
     "text": [
      "   id  bweight  lowbw    gestwks  preterm  matage  hyp  sex\n",
      "0   1     2974      0  38.520000      0.0      34    0    2\n",
      "1   2     3270      0        NaN      NaN      30    0    1\n",
      "2   3     2620      0  38.150002      0.0      35    0    2\n",
      "3   4     3751      0  39.799999      0.0      31    0    1\n",
      "4   5     3200      0  38.889999      0.0      33    1    1\n",
      "5   6     3673      0  40.970001      0.0      33    0    2\n",
      "6   7     3628      0  42.139999      0.0      29    0    2\n",
      "7   8     3773      0  40.209999      0.0      37    0    1\n",
      "8   9     3960      0  42.029999      0.0      36    0    2\n",
      "9  10     3405      0  39.330002      0.0      39    0    1\n",
      "id           int64\n",
      "bweight      int64\n",
      "lowbw        int64\n",
      "gestwks    float64\n",
      "preterm    float64\n",
      "matage       int64\n",
      "hyp          int64\n",
      "sex          int64\n",
      "dtype: object\n",
      "               id      bweight       lowbw     gestwks     preterm  \\\n",
      "count  500.000000   500.000000  500.000000  490.000000  490.000000   \n",
      "mean   250.500000  3136.884000    0.120000   38.721857    0.128571   \n",
      "std    144.481833   637.451485    0.325287    2.314167    0.335067   \n",
      "min      1.000000   628.000000    0.000000   24.690001    0.000000   \n",
      "25%    125.750000  2862.000000    0.000000   37.939999    0.000000   \n",
      "50%    250.500000  3188.500000    0.000000   39.125000    0.000000   \n",
      "75%    375.250000  3551.250000    0.000000   40.090000    0.000000   \n",
      "max    500.000000  4553.000000    1.000000   43.160000    1.000000   \n",
      "\n",
      "           matage         hyp         sex  \n",
      "count  500.000000  500.000000  500.000000  \n",
      "mean    34.028000    0.144000    1.472000  \n",
      "std      3.897897    0.351441    0.499715  \n",
      "min     23.000000    0.000000    1.000000  \n",
      "25%     31.000000    0.000000    1.000000  \n",
      "50%     34.000000    0.000000    1.000000  \n",
      "75%     37.000000    0.000000    2.000000  \n",
      "max     43.000000    1.000000    2.000000  \n"
     ]
    }
   ],
   "source": [
    "# Examine the births dataset\n",
    "print(births_df.head(10))\n",
    "print(births_df.dtypes)\n",
    "print(births_df.describe())"
   ]
  },
  {
   "cell_type": "code",
   "execution_count": 3,
   "metadata": {},
   "outputs": [
    {
     "name": "stdout",
     "output_type": "stream",
     "text": [
      "   id  bweight lowbw    gestwks preterm  matage hyp sex\n",
      "0   1     2974     0  38.520000     0.0      34   0   2\n",
      "1   2     3270     0        NaN     NaN      30   0   1\n",
      "2   3     2620     0  38.150002     0.0      35   0   2\n",
      "3   4     3751     0  39.799999     0.0      31   0   1\n",
      "4   5     3200     0  38.889999     0.0      33   1   1\n"
     ]
    }
   ],
   "source": [
    "# Transform categorical variables to the right format with labels.\n",
    "births_df[\"lowbw\"] = births_df[\"lowbw\"].astype(\"category\")\n",
    "births_df[\"preterm\"] = births_df[\"preterm\"].astype(\"category\")\n",
    "births_df[\"hyp\"] = births_df[\"hyp\"].astype(\"category\")\n",
    "births_df[\"sex\"] = births_df[\"sex\"].astype(\"category\")\n",
    "\n",
    "# Define category renaming mappings.\n",
    "lowbw_categories = {0: \"Normal birthweight\", 1: \"Low birthweight\"}\n",
    "preterm_categories = {0: \"Not preterm\", 1: \"Preterm\"}\n",
    "hyp_categories = {0: \"No maternal hypertension\", 1: \"Maternal hypertension\"}\n",
    "sex_categories = {1: \"Male\", 2: \"Female\"}\n",
    "\n",
    "# Rename categories for readability.\n",
    "births_df[\"lowbw\"].cat.rename_categories(lowbw_categories)\n",
    "births_df[\"preterm\"].cat.rename_categories(preterm_categories)\n",
    "births_df[\"hyp\"].cat.rename_categories(hyp_categories)\n",
    "births_df[\"sex\"].cat.rename_categories(sex_categories)\n",
    "\n",
    "# Display the first few rows of the DataFrame to check the changes.\n",
    "print(births_df.head())\n"
   ]
  },
  {
   "cell_type": "code",
   "execution_count": 4,
   "metadata": {},
   "outputs": [
    {
     "ename": "NameError",
     "evalue": "name 'scores_df' is not defined",
     "output_type": "error",
     "traceback": [
      "\u001b[0;31m---------------------------------------------------------------------------\u001b[0m",
      "\u001b[0;31mNameError\u001b[0m                                 Traceback (most recent call last)",
      "\u001b[1;32m/Users/angelchang/Documents/Coding/programming-assessment/assessmenttest.ipynb Cell 4\u001b[0m line \u001b[0;36m3\n\u001b[1;32m      <a href='vscode-notebook-cell:/Users/angelchang/Documents/Coding/programming-assessment/assessmenttest.ipynb#X20sZmlsZQ%3D%3D?line=0'>1</a>\u001b[0m \u001b[39m# Create a new DataFrame with any rows with missing data excluded.\u001b[39;00m\n\u001b[1;32m      <a href='vscode-notebook-cell:/Users/angelchang/Documents/Coding/programming-assessment/assessmenttest.ipynb#X20sZmlsZQ%3D%3D?line=1'>2</a>\u001b[0m births_df_clean \u001b[39m=\u001b[39m births_df\u001b[39m.\u001b[39mdropna()\n\u001b[0;32m----> <a href='vscode-notebook-cell:/Users/angelchang/Documents/Coding/programming-assessment/assessmenttest.ipynb#X20sZmlsZQ%3D%3D?line=2'>3</a>\u001b[0m scores_df_clean \u001b[39m=\u001b[39m scores_df\u001b[39m.\u001b[39mdropna()\n",
      "\u001b[0;31mNameError\u001b[0m: name 'scores_df' is not defined"
     ]
    }
   ],
   "source": [
    "# Create a new DataFrame with any rows with missing data excluded.\n",
    "births_df_clean = births_df.dropna()\n",
    "score_df_clean = score_df.dropna()"
   ]
  },
  {
   "cell_type": "code",
   "execution_count": null,
   "metadata": {},
   "outputs": [],
   "source": [
    "# Merge two dataframes, keeping matching and unmatching rows\n",
    "merged_df=pd.merge(births_df_clean, score_df_clean, on=\"id\", how=\"outer\")\n",
    "# This creates a new datafarme merging by id number. \n",
    "merged_df.info()\n",
    "# The result of this operation includes 490 rows. However only 425 of these have a value in the column \"score\".\n",
    "\n"
   ]
  },
  {
   "cell_type": "code",
   "execution_count": null,
   "metadata": {},
   "outputs": [],
   "source": [
    "# Reorder the merged dataset by variable score\n",
    "sorted_merged_df=merged_df.sort_values(by=\"score\", ascending=True).copy()\n",
    "\n"
   ]
  },
  {
   "cell_type": "code",
   "execution_count": null,
   "metadata": {},
   "outputs": [],
   "source": [
    "\n",
    "continuous_variables=merged_df[[\"bweight\",\"matage\",\"gestwks\",\"score\"]]\n",
    "correlation_matrix=continuous_variables.corr()\n",
    "print(\"Correlation matrix: \")\n",
    "print(correlation_matrix)\n",
    "\n",
    "# This shows a correlation matrix between the continuous variable showing the Pearson correlation coefficient between the variables. \n",
    "# Birthweight and gestiational weeks have a moderately strong correlation with a Pearson correlaiton coefficient score of 0.712.\n",
    "\n",
    "\n"
   ]
  },
  {
   "cell_type": "code",
   "execution_count": null,
   "metadata": {},
   "outputs": [],
   "source": [
    "# Examine the two way distribution of the categorical variables in tabular form.\n",
    "\n",
    "# Crosstab of sex and hypertension\n",
    "sex_hyp_group = pd.crosstab(merged_df[\"sex\"], merged_df[\"hyp\"])\n",
    "print('Sex and Hypertension distribution:')\n",
    "print(sex_hyp_group)\n",
    "\n",
    "# Crosstab of sex and preterm births\n",
    "sex_preterm_group = pd.crosstab(merged_df[\"sex\"], merged_df[\"preterm\"])\n",
    "print('Sex and Preterm distribution:')\n",
    "print(sex_preterm_group)\n",
    "\n",
    "# Crosstab of preterm births and hypertension\n",
    "preterm_hyp_group = pd.crosstab(merged_df[\"preterm\"], merged_df[\"hyp\"])\n",
    "print('Preterm and Hypertension distribution:')\n",
    "print(preterm_hyp_group)\n",
    "\n",
    "# Crosstab of low birthweight and sex\n",
    "lowbw_sex_group = pd.crosstab(merged_df[\"sex\"], merged_df[\"lowbw\"])\n",
    "print('Low birthweight and Sex distribution:')\n",
    "print(lowbw_sex_group)\n",
    "\n",
    "# Crosstab of low birthweight and hypertension\n",
    "lowbw_hyp_group = pd.crosstab(merged_df[\"lowbw\"], merged_df[\"hyp\"])\n",
    "print('Low birthweight and Hypertension distribution:')\n",
    "print(lowbw_hyp_group)\n",
    "\n",
    "# Crosstab of low birthweight and preterm births\n",
    "lowbw_preterm_group = pd.crosstab(merged_df[\"lowbw\"], merged_df[\"preterm\"])\n",
    "print('Low birthweight and Preterm distribution:')\n",
    "print(lowbw_preterm_group)"
   ]
  },
  {
   "cell_type": "code",
   "execution_count": null,
   "metadata": {},
   "outputs": [],
   "source": [
    "import numpy as np\n",
    "\n",
    "# Create a new variable highscore that identifies a score higher than 150\n",
    "\n",
    "conditions = [\n",
    "    merged_df[\"score\"] > 150,  # Condition for scores greater than 150\n",
    "    merged_df[\"score\"] <= 150,  # Condition for scores less than or equal to 150\n",
    "    merged_df[\"score\"].isna()   # Condition for NaN scores\n",
    "]\n",
    "choices = [\"Yes\", \"No\", \"No Score\"]  # Corresponding choices for the conditions\n",
    "\n",
    "# Create the 'highscore' column using np.select\n",
    "merged_df[\"highscore\"] = np.select(conditions, choices, default=\"No Score\")\n"
   ]
  },
  {
   "cell_type": "code",
   "execution_count": null,
   "metadata": {},
   "outputs": [],
   "source": [
    "# Create an aggregated version of the dataset that reports average birthweight by high score and sex\n",
    "\n",
    "aggregated_df=merged_df.groupby([\"highscore\",\"sex\"])[\"bweight\"].agg(average_bweight=\"mean\").reset_index()\n",
    "print(aggregated_df)\n"
   ]
  },
  {
   "cell_type": "code",
   "execution_count": null,
   "metadata": {},
   "outputs": [],
   "source": [
    "\n",
    "import matplotlib.pyplot as plt\n",
    "import seaborn as sns\n",
    "sns.regplot(x=merged_df[\"gestwks\"], y=merged_df[\"bweight\"],scatter_kws={\"alpha\": 0.5})\n",
    "plt.xlabel(\"Gestational age (weeks)\")\n",
    "plt.ylabel(\"Birthweight (grams)\")\n",
    "plt.title(\"Relationship Between Gestational Weeks and Birthweight\", pad=30)\n",
    "plt.grid(True, linestyle=\":\")\n",
    "plt.savefig(\"Bweightvsgestwks.pdf\", format=\"pdf\")\n",
    "plt.show()\n",
    "\n",
    "\n"
   ]
  },
  {
   "cell_type": "code",
   "execution_count": null,
   "metadata": {},
   "outputs": [],
   "source": [
    "merged_df.to_excel(\"cleaned_merged_dataset.xlsx\", index=False)"
   ]
  }
 ],
 "metadata": {
  "kernelspec": {
   "display_name": "base",
   "language": "python",
   "name": "python3"
  },
  "language_info": {
   "codemirror_mode": {
    "name": "ipython",
    "version": 3
   },
   "file_extension": ".py",
   "mimetype": "text/x-python",
   "name": "python",
   "nbconvert_exporter": "python",
   "pygments_lexer": "ipython3",
   "version": "3.11.5"
  }
 },
 "nbformat": 4,
 "nbformat_minor": 2
}
